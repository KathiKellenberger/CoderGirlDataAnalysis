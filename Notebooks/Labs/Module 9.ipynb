{
    "metadata": {
        "kernelspec": {
            "name": "SQL",
            "display_name": "SQL",
            "language": "sql"
        },
        "language_info": {
            "name": "sql",
            "version": ""
        }
    },
    "nbformat_minor": 2,
    "nbformat": 4,
    "cells": [
        {
            "cell_type": "markdown",
            "source": [
                "# Module 9: Creating tables and manipulating data\n",
                "\n",
                "Info for the lab:\n",
                "\n",
                "  \n",
                "\n",
                "\\--drop the table before you create it\n",
                "\n",
                "DROP TABLE IF EXISTS dbo.demo;\n",
                "\n",
                "  \n",
                "\n",
                "\\--Create with CREATE TABLE syntax\n",
                "\n",
                "CREATE TABLE testTable(\n",
                "\n",
                "> ID INT NOT NULL PRIMARY KEY,\n",
                "> \n",
                "> VALUE VARCHAR(25) NOT NULL);\n",
                "> \n",
                ">"
            ],
            "metadata": {
                "azdata_cell_guid": "da5c7fdc-9e49-4d43-9073-a44fd4ec72ff"
            },
            "attachments": {}
        },
        {
            "cell_type": "markdown",
            "source": [
                "Create table and populate at the same time:\n",
                "\n",
                "  \n",
                "\n",
                "SELECT Col1, Col2, Col3 \n",
                "\n",
                "INTO myNewTable\n",
                "\n",
                "FROM myOldTable;\n",
                "\n",
                "  \n",
                "\n",
                "SELECT \\* INTO NewTable\n",
                "\n",
                "FROM OldTable;"
            ],
            "metadata": {
                "azdata_cell_guid": "f9233182-be6b-45f8-8c00-cd60e7000f77"
            },
            "attachments": {}
        },
        {
            "cell_type": "markdown",
            "source": [
                "Lab 1.\n",
                "\n",
                "1\\. Create a new table called dbo.Kittens. Include columns for KittenID, MomID, DadID, Gender, Type, Color, BirthDate."
            ],
            "metadata": {
                "azdata_cell_guid": "3aee3466-3ea0-4d8f-b1fb-6810dbc9be7d"
            },
            "attachments": {}
        },
        {
            "cell_type": "code",
            "source": [
                ""
            ],
            "metadata": {
                "azdata_cell_guid": "cbf75e36-c05b-47c8-8f31-08a6b1cf7454"
            },
            "outputs": [],
            "execution_count": null
        },
        {
            "cell_type": "markdown",
            "source": [
                "2\\. Create a new table called dbo.Sales. Populate it at the same time with a query from AdventureWorks2019 using this query:\n",
                "\n",
                "  \n",
                "\n",
                "SELECT SOH.SalesOrderID, SOH.OrderDate, Prod.ProductID, Prod.Name, SOD.OrderQty, SOD. UnitPrice\n",
                "\n",
                "FROM Sales.SalesOrderHeader AS SOH \n",
                "\n",
                "JOIN Sales.SalesOrderDetail AS SOD \n",
                "\n",
                "ON SOH.SalesOrderID = SOD.SalesOrderID\n",
                "\n",
                "JOIN Production.Product AS Prod \n",
                "\n",
                "ON SOD.ProductID = Prod.ProductID;"
            ],
            "metadata": {
                "azdata_cell_guid": "7c8d7e2b-3dbf-4919-b7d0-6953906566a4"
            },
            "attachments": {}
        },
        {
            "cell_type": "code",
            "source": [
                ""
            ],
            "metadata": {
                "azdata_cell_guid": "deeea6c6-41aa-46c1-a12c-5a58068ac86f"
            },
            "outputs": [],
            "execution_count": null
        },
        {
            "cell_type": "markdown",
            "source": [
                "Populating data\n",
                "\n",
                "  \n",
                "\n",
                "With values.\n",
                "\n",
                "  \n",
                "\n",
                "INSERT INTO myTable(ID, Name, Description)\n",
                "\n",
                "SELECT 1, 'Big blue sky','A book about clouds');\n",
                "\n",
                "  \n",
                "\n",
                "INSERT INTO myTable(ID, Name, Description)\n",
                "\n",
                "VALUES( 1, 'Big blue sky','A book about clouds'),\n",
                "\n",
                "> (2,'King of the ocean','A book about sharks');\n",
                "> \n",
                ">   \n",
                "\n",
                "  \n",
                "\n",
                "From another table or query\n",
                "\n",
                "INSERT INTO myTable(ID, Name, Description)\n",
                "\n",
                "SELECT ID, BookName, ShortDescription\n",
                "\n",
                "FROM dbo.NatureBooks;"
            ],
            "metadata": {
                "azdata_cell_guid": "99980e79-34fb-4c3a-a075-ddab9e219254"
            },
            "attachments": {}
        },
        {
            "cell_type": "markdown",
            "source": [
                "Lab 1. You will need to switch to your own database to complete these\n",
                "\n",
                "1\\. Create a table for holding a CD collection. You'll need cdID, Name, Artist, Genre, YearPublished and AutographedYN."
            ],
            "metadata": {
                "azdata_cell_guid": "6678f12e-280c-445b-ad69-1b404cf4f9ef"
            },
            "attachments": {}
        },
        {
            "cell_type": "code",
            "source": [
                ""
            ],
            "metadata": {
                "azdata_cell_guid": "d599618e-dd9b-4944-b0a3-1f2c18cfe6d0"
            },
            "outputs": [],
            "execution_count": null
        },
        {
            "cell_type": "markdown",
            "source": [
                "2\\. Populate the table created in question 1 with your own data"
            ],
            "metadata": {
                "azdata_cell_guid": "4d266445-b0c9-4d53-8eca-743eae288c17"
            },
            "attachments": {}
        },
        {
            "cell_type": "code",
            "source": [
                ""
            ],
            "metadata": {
                "azdata_cell_guid": "26588f0e-9008-48e0-9918-3316b5704e82"
            },
            "outputs": [],
            "execution_count": null
        },
        {
            "cell_type": "markdown",
            "source": [
                "3\\. Create and populate a table called CD\\_Save with one statement."
            ],
            "metadata": {
                "azdata_cell_guid": "874c53af-1671-4178-b75d-6d22bfd91787"
            },
            "attachments": {}
        },
        {
            "cell_type": "code",
            "source": [
                ""
            ],
            "metadata": {
                "azdata_cell_guid": "8283d51f-3554-49d6-a3e7-bac1f525ed16"
            },
            "outputs": [],
            "execution_count": null
        },
        {
            "cell_type": "markdown",
            "source": [
                "## Info for Lab 2\n",
                "\n",
                "\\--Delete all rows in a table\n",
                "\n",
                "DELETE tableName\n",
                "\n",
                "\\--Fast way to delete all rows in a table; Requires more permission but is also more efficient\n",
                "\n",
                "TRUNCATE TABLE tableName\n",
                "\n",
                "\\--Delete using a where clause!!\n",
                "\n",
                "DELETE tableName\n",
                "\n",
                "WHERE ID = 7;\n",
                "\n",
                "\\--Delete using a query. Be sure to use the ALIAS!!\n",
                "\n",
                "DELETE T1\n",
                "\n",
                "FROM table1 AS T1 \n",
                "\n",
                "JOIN table2 AS T2 \n",
                "\n",
                "ON T1.ID = T2.ID \n",
                "\n",
                "WHERE T2.Name = 'Charles';"
            ],
            "metadata": {
                "azdata_cell_guid": "5699e79b-2cca-4d42-b4f2-ed3fef816259"
            },
            "attachments": {}
        },
        {
            "cell_type": "markdown",
            "source": [
                "Lab 2\n",
                "\n",
                "Create a new table with this query.   \n",
                "\n",
                "  \n",
                "SELECT \\* INTO dbo.Products FROM AdventureWorks2019.Production.Product;"
            ],
            "metadata": {
                "azdata_cell_guid": "b942a259-9195-4c70-a40e-39500cd57c25"
            },
            "attachments": {}
        },
        {
            "cell_type": "markdown",
            "source": [
                "1\\. Delete the rows from the dbo.Products table only if the ProductID is less than 100."
            ],
            "metadata": {
                "azdata_cell_guid": "7d47e3e0-db99-4297-9654-10664b4f7402"
            },
            "attachments": {}
        },
        {
            "cell_type": "code",
            "source": [
                ""
            ],
            "metadata": {
                "azdata_cell_guid": "ee88a7b9-8b2c-4610-99b8-3f052826de36"
            },
            "outputs": [],
            "execution_count": null
        },
        {
            "cell_type": "markdown",
            "source": [
                "2\\. Delete the rows from the dbo.Products table if they have never been sold."
            ],
            "metadata": {
                "azdata_cell_guid": "ac8ff934-e59f-490b-81e1-409253fc0d0e"
            },
            "attachments": {}
        },
        {
            "cell_type": "code",
            "source": [
                ""
            ],
            "metadata": {
                "azdata_cell_guid": "a2c56195-0215-4a66-8fc9-c9d7b21e2b95"
            },
            "outputs": [],
            "execution_count": null
        },
        {
            "cell_type": "markdown",
            "source": [
                "3\\. Delete all the rows from the dbo.Products table with the most efficient command."
            ],
            "metadata": {
                "azdata_cell_guid": "a075dddc-d7b4-4876-84b9-86236b504b6e"
            },
            "attachments": {}
        },
        {
            "cell_type": "code",
            "source": [
                ""
            ],
            "metadata": {
                "azdata_cell_guid": "0f377091-230f-4dfb-9dc6-9b81011f1bfb"
            },
            "outputs": [],
            "execution_count": null
        },
        {
            "cell_type": "markdown",
            "source": [
                "Info for Lab 3 Updating data\n",
                "\n",
                "Use a WHERE clause!!\n",
                "\n",
                "Recreate the dbo.Products table. Include a Description column with the definition:\n",
                "\n",
                "DROP TABLE IF EXISTS dbo.Products;\n",
                "\n",
                "SELECT \\*, REPLICATE(' ',100) AS DESCRIPTION INTO dbo.Products\n",
                "\n",
                "FROM Production.Product;"
            ],
            "metadata": {
                "azdata_cell_guid": "23ca6528-2052-4065-99fb-9abbce4483ca"
            },
            "attachments": {}
        },
        {
            "cell_type": "markdown",
            "source": [
                "1\\. Update all rows with a NULL color. Change to 'None' instead of NULL."
            ],
            "metadata": {
                "azdata_cell_guid": "b97b4008-5589-46e4-af22-99f8dbe69dc0"
            },
            "attachments": {}
        },
        {
            "cell_type": "code",
            "source": [
                ""
            ],
            "metadata": {
                "azdata_cell_guid": "2e63b85f-fa98-4fd4-9247-4b84a14417c8"
            },
            "outputs": [],
            "execution_count": null
        },
        {
            "cell_type": "markdown",
            "source": [
                "2\\. Update the description column with the Product ID + name + color."
            ],
            "metadata": {
                "azdata_cell_guid": "b2cb5ac7-71c8-4749-ab82-1c58b22ad6cf"
            },
            "attachments": {}
        },
        {
            "cell_type": "code",
            "source": [
                ""
            ],
            "metadata": {
                "azdata_cell_guid": "8957fb09-3539-45bd-8fee-25a64a05b972"
            },
            "outputs": [],
            "execution_count": null
        }
    ]
}