{
    "metadata": {
        "kernelspec": {
            "name": "SQL",
            "display_name": "SQL",
            "language": "sql"
        },
        "language_info": {
            "name": "sql",
            "version": ""
        }
    },
    "nbformat_minor": 2,
    "nbformat": 4,
    "cells": [
        {
            "cell_type": "markdown",
            "source": [
                "## Module 6: Grouping\n",
                "\n",
                "### <span style=\"font-size: 14px;\">Popular aggregate functions:</span>  \n",
                "\n",
                "# \n",
                "\n",
                "· <span lang=\"EN-GB\" style=\"font-size: 14px;\">COUNT</span>  \n",
                "· <span lang=\"EN-GB\" style=\"font-size: 14px;\">SUM</span>  \n",
                "· <span lang=\"EN-GB\" style=\"font-size: 14px;\">AVG</span>  \n",
                "· <span lang=\"EN-GB\" style=\"font-size: 14px;\">MIN</span>  \n",
                "· <span lang=\"EN-GB\" style=\"font-size: 14px;\">MAX</span>  \n",
                "\n",
                "<span style=\"font-size:9.5pt;font-family:Consolas;\n",
                "mso-bidi-font-family:Consolas;color:green;mso-ansi-language:EN-US\">--One summary row returned</span>\n",
                "\n",
                "<span style=\"font-size: 9.5pt; font-family: Consolas; color: blue;\">SELECT</span> <span style=\"font-size: 9.5pt; font-family: Consolas; color: fuchsia;\">COUNT</span><span style=\"font-size: 9.5pt; font-family: Consolas; color: gray;\">(*)</span> <span style=\"font-size: 9.5pt; font-family: Consolas; color: blue;\">AS</span> <span style=\"font-size: 9.5pt; font-family: Consolas; color: black;\"> CountOfRows</span><span style=\"font-size: 9.5pt; font-family: Consolas;\"><font color=\"#808080\">,<br></font></span> <span style=\"font-size: 9.5pt; font-family: Consolas; color: fuchsia;\">MAX</span><span style=\"font-size: 9.5pt; font-family: Consolas; color: gray;\">(</span><span style=\"font-size: 9.5pt; font-family: Consolas; color: black;\">TotalDue</span><span style=\"font-size: 9.5pt; font-family: Consolas; color: gray;\">)</span> <span style=\"font-size: 9.5pt; font-family: Consolas; color: blue;\">AS</span> <span style=\"font-size: 9.5pt; font-family: Consolas; color: black;\"> MaxTotal</span><span style=\"font-size: 9.5pt; font-family: Consolas;\"><font color=\"#808080\">,<br></font></span> <span style=\"font-size: 9.5pt; font-family: Consolas; color: fuchsia;\">MIN</span><span style=\"font-size: 9.5pt; font-family: Consolas; color: gray;\">(</span><span style=\"font-size: 9.5pt; font-family: Consolas; color: black;\">TotalDue</span><span style=\"font-size: 9.5pt; font-family: Consolas; color: gray;\">)</span> <span style=\"font-size: 9.5pt; font-family: Consolas; color: blue;\">AS</span> <span style=\"font-size: 9.5pt; font-family: Consolas; color: black;\"> MinTotal</span><span style=\"font-size: 9.5pt; font-family: Consolas;\"><font color=\"#808080\">,<br></font></span> <span style=\"font-size: 9.5pt; font-family: Consolas; color: fuchsia;\">SUM</span><span style=\"font-size: 9.5pt; font-family: Consolas; color: gray;\">(</span><span style=\"font-size: 9.5pt; font-family: Consolas; color: black;\">TotalDue</span><span style=\"font-size: 9.5pt; font-family: Consolas; color: gray;\">)</span> <span style=\"font-size: 9.5pt; font-family: Consolas; color: blue;\">AS</span> <span style=\"font-size: 9.5pt; font-family: Consolas; color: black;\"> SumOfTotal</span><span style=\"font-size: 9.5pt; font-family: Consolas;\"><font color=\"#808080\">,<br></font></span> <span style=\"font-size: 9.5pt; font-family: Consolas; color: fuchsia;\">AVG</span><span style=\"font-size: 9.5pt; font-family: Consolas; color: gray;\">(</span><span style=\"font-size: 9.5pt; font-family: Consolas; color: black;\">TotalDue</span><span style=\"font-size: 9.5pt; font-family: Consolas; color: gray;\">)</span> <span style=\"font-size: 9.5pt; font-family: Consolas; color: blue;\">AS</span> <span style=\"font-size: 9.5pt; font-family: Consolas;\"><font color=\"#000000\"> AvgTotal<br></font></span><span style=\"font-size: 9.5pt; line-height: 107%; font-family: Consolas; color: blue;\">FROM</span> <span style=\"font-size: 9.5pt; line-height: 107%; font-family: Consolas; color: black;\"> Sales</span><span style=\"font-size: 9.5pt; line-height: 107%; font-family: Consolas; color: gray;\">.</span><span style=\"font-size: 9.5pt; line-height: 107%; font-family: Consolas; color: black;\">SalesOrderHeader</span><span style=\"font-size: 9.5pt; line-height: 107%; font-family: Consolas; color: gray;\">;</span>\n",
                "\n",
                "### Group by\n",
                "\n",
                "# \n",
                "\n",
                "Any expression in the SELECT or ORDER BY clauses not in an aggregate function must be included in the GROUP BY clause\n",
                "\n",
                "<span style=\"font-size: 9.5pt; font-family: Consolas;\"><font color=\"#008000\">--Returns one row per customer<br></font></span><span style=\"font-size: 9.5pt; font-family: Consolas; color: blue;\">SELECT</span> <span style=\"font-size: 9.5pt; font-family: Consolas; color: black;\"> CustomerID</span><span style=\"font-size: 9.5pt; font-family: Consolas; color: gray;\">,</span><span style=\"font-size: 9.5pt; font-family: Consolas; color: fuchsia;\">SUM</span><span style=\"font-size: 9.5pt; font-family: Consolas; color: gray;\">(</span><span style=\"font-size: 9.5pt; font-family: Consolas; color: black;\">TotalDue</span><span style=\"font-size: 9.5pt; font-family: Consolas; color: gray;\">)</span> <span style=\"font-size: 9.5pt; font-family: Consolas; color: blue;\">AS</span> <span style=\"font-size: 9.5pt; font-family: Consolas;\"><font color=\"#000000\"> TotalPerCustomer<br></font></span><span style=\"font-size: 9.5pt; font-family: Consolas; color: blue;\">FROM</span> <span style=\"font-size: 9.5pt; font-family: Consolas; color: black;\"> Sales</span><span style=\"font-size: 9.5pt; font-family: Consolas; color: gray;\">.</span><span style=\"font-size: 9.5pt; font-family: Consolas;\"><font color=\"#000000\">SalesOrderHeader<br></font></span><span style=\"font-size: 9.5pt; line-height: 107%; font-family: Consolas; color: blue;\">GROUP</span> <span style=\"font-size: 9.5pt; line-height: 107%; font-family: Consolas; color: blue;\">BY</span> <span style=\"font-size: 9.5pt; line-height: 107%; font-family: Consolas; color: black;\"> CustomerID</span><span style=\"font-size: 9.5pt; line-height: 107%; font-family: Consolas;\"><font color=\"#808080\">;<br></font></span><span style=\"font-family: Consolas; font-size: 9.5pt;\"><font color=\"#008000\">--Be sure to include the expression<br></font></span><span style=\"font-size: 9.5pt; font-family: Consolas; color: blue;\">SELECT</span> <span style=\"font-size: 9.5pt; font-family: Consolas; color: fuchsia;\">COUNT</span><span style=\"font-size: 9.5pt; font-family: Consolas; color: gray;\">(*)</span> <span style=\"font-size: 9.5pt; font-family: Consolas; color: blue;\">AS</span> <span style=\"font-size: 9.5pt; font-family: Consolas; color: black;\"> CountOfOrders</span><span style=\"font-size: 9.5pt; font-family: Consolas; color: gray;\">,</span> <span style=\"font-size: 9.5pt; font-family: Consolas; color: fuchsia;\">YEAR</span><span style=\"font-size: 9.5pt; font-family: Consolas; color: gray;\">(</span><span style=\"font-size: 9.5pt; font-family: Consolas; color: black;\">OrderDate</span><span style=\"font-size: 9.5pt; font-family: Consolas; color: gray;\">)</span> <span style=\"font-size: 9.5pt; font-family: Consolas; color: blue;\">AS</span> <span style=\"font-size: 9.5pt; font-family: Consolas;\"><font color=\"#000000\"> OrderYear<br></font></span><span style=\"font-size: 9.5pt; font-family: Consolas; color: blue;\">FROM</span> <span style=\"font-size: 9.5pt; font-family: Consolas; color: black;\"> Sales</span><span style=\"font-size: 9.5pt; font-family: Consolas; color: gray;\">.</span><span style=\"font-size: 9.5pt; font-family: Consolas;\"><font color=\"#000000\">SalesOrderHeader<br></font></span><span style=\"font-size: 9.5pt; line-height: 107%; font-family: Consolas; color: blue;\">GROUP</span> <span style=\"font-size: 9.5pt; line-height: 107%; font-family: Consolas; color: blue;\">BY</span> <span style=\"font-size: 9.5pt; line-height: 107%; font-family: Consolas; color: fuchsia;\">YEAR</span><span style=\"font-size: 9.5pt; line-height: 107%; font-family: Consolas; color: gray;\">(</span><span style=\"font-size: 9.5pt; line-height: 107%; font-family: Consolas; color: black;\">OrderDate</span><span style=\"font-size: 9.5pt; line-height: 107%; font-family: Consolas; color: gray;\">);</span>"
            ],
            "metadata": {
                "azdata_cell_guid": "9e1b227c-bd0b-4ab6-aa10-99b0b3040e71"
            },
            "attachments": {}
        },
        {
            "cell_type": "markdown",
            "source": [
                "1. Write a query to determine the number of customers in the Sales.Customer table."
            ],
            "metadata": {
                "azdata_cell_guid": "71ac9deb-833d-4eb3-9451-83380257cb0d"
            },
            "attachments": {}
        },
        {
            "cell_type": "code",
            "source": [
                ""
            ],
            "metadata": {
                "azdata_cell_guid": "97b8fd08-12fa-4c22-8114-0f5cad4b332b"
            },
            "outputs": [],
            "execution_count": null
        },
        {
            "cell_type": "markdown",
            "source": [
                "2\\. Write a query that returns the overall total number of products ordered. Use the OrderQty column of the Sales.SalesOrderDetail table and the SUM function."
            ],
            "metadata": {
                "azdata_cell_guid": "a5a8bb28-56d2-47d5-a89f-5b79cd3d2236"
            },
            "attachments": {}
        },
        {
            "cell_type": "code",
            "source": [
                ""
            ],
            "metadata": {
                "azdata_cell_guid": "d10b318d-b23f-4482-ba62-0bb924a0a59b"
            },
            "outputs": [],
            "execution_count": null
        },
        {
            "cell_type": "markdown",
            "source": [
                "3. Write a query that shows the total number of items ordered _for each product_. Use the Sales.SalesOrderDetail table to write the query."
            ],
            "metadata": {
                "azdata_cell_guid": "1c99f836-c5da-4a84-9ef7-ce3ea3f69120"
            },
            "attachments": {}
        },
        {
            "cell_type": "code",
            "source": [
                ""
            ],
            "metadata": {
                "azdata_cell_guid": "c9d84075-fb49-4252-a82b-15b9d1e325d1"
            },
            "outputs": [],
            "execution_count": null
        },
        {
            "cell_type": "markdown",
            "source": [
                "4. Write a query that provides a count of the first initial of the LastName column of the Person.Person table."
            ],
            "metadata": {
                "azdata_cell_guid": "6375799e-99c7-46ee-a1b6-d584eaa3bb66"
            },
            "attachments": {}
        },
        {
            "cell_type": "code",
            "source": [
                ""
            ],
            "metadata": {
                "azdata_cell_guid": "ab3f9b38-ff6b-4846-977a-1de6564dce8c"
            },
            "outputs": [],
            "execution_count": null
        },
        {
            "cell_type": "markdown",
            "source": [
                "### Having clause\n",
                "\n",
                "Use to filter groups on summary values. The WHERE clause filters rows before the grouping is done.\n",
                "\n",
                "<span style=\"font-size:9.5pt;font-family:Consolas;\n",
                "mso-bidi-font-family:Consolas;color:blue;mso-ansi-language:EN-US\">SELECT</span> <span style=\"font-size:9.5pt;font-family:Consolas;mso-bidi-font-family:Consolas;\n",
                "color:black;mso-ansi-language:EN-US\"> CustomerID</span><span style=\"font-size:\n",
                "9.5pt;font-family:Consolas;mso-bidi-font-family:Consolas;color:gray;mso-ansi-language:\n",
                "EN-US\">,</span><span style=\"font-size:9.5pt;font-family:Consolas;mso-bidi-font-family:\n",
                "Consolas;color:fuchsia;mso-ansi-language:EN-US\">SUM</span><span style=\"font-size:9.5pt;font-family:Consolas;mso-bidi-font-family:Consolas;\n",
                "color:gray;mso-ansi-language:EN-US\">(</span><span style=\"font-size:9.5pt;\n",
                "font-family:Consolas;mso-bidi-font-family:Consolas;color:black;mso-ansi-language:\n",
                "EN-US\">TotalDue</span><span style=\"font-size:9.5pt;font-family:Consolas;\n",
                "mso-bidi-font-family:Consolas;color:gray;mso-ansi-language:EN-US\">)</span> <span style=\"font-size:9.5pt;\n",
                "font-family:Consolas;mso-bidi-font-family:Consolas;color:blue;mso-ansi-language:\n",
                "EN-US\">AS</span> <span style=\"font-size:9.5pt;font-family:Consolas;mso-bidi-font-family:\n",
                "Consolas;color:black;mso-ansi-language:EN-US\"> TotalPerCustomer<o:p></o:p></span>\n",
                "\n",
                "<span style=\"font-size:9.5pt;font-family:Consolas;\n",
                "mso-bidi-font-family:Consolas;color:blue;mso-ansi-language:EN-US\">FROM</span> <span style=\"font-size:9.5pt;font-family:Consolas;mso-bidi-font-family:Consolas;\n",
                "color:black;mso-ansi-language:EN-US\"> Sales</span><span style=\"font-size:9.5pt;\n",
                "font-family:Consolas;mso-bidi-font-family:Consolas;color:gray;mso-ansi-language:\n",
                "EN-US\">.</span><span style=\"font-size:9.5pt;font-family:Consolas;mso-bidi-font-family:\n",
                "Consolas;color:black;mso-ansi-language:EN-US\">SalesOrderHeader<o:p></o:p></span>\n",
                "\n",
                "<span style=\"font-size:9.5pt;font-family:Consolas;\n",
                "mso-bidi-font-family:Consolas;color:blue;mso-ansi-language:EN-US\">GROUP</span> <span style=\"font-size:9.5pt;\n",
                "font-family:Consolas;mso-bidi-font-family:Consolas;color:blue;mso-ansi-language:\n",
                "EN-US\">BY</span> <span style=\"font-size:9.5pt;font-family:Consolas;mso-bidi-font-family:\n",
                "Consolas;color:black;mso-ansi-language:EN-US\"> CustomerID<o:p></o:p></span>\n",
                "\n",
                "<span style=\"font-size:9.5pt;font-family:Consolas;\n",
                "mso-bidi-font-family:Consolas;color:blue;mso-ansi-language:EN-US\">HAVING</span> <span style=\"font-size:9.5pt;\n",
                "font-family:Consolas;mso-bidi-font-family:Consolas;color:fuchsia;mso-ansi-language:\n",
                "EN-US\">SUM</span><span style=\"font-size:9.5pt;font-family:Consolas;mso-bidi-font-family:\n",
                "Consolas;color:gray;mso-ansi-language:EN-US\">(</span><span style=\"font-size:\n",
                "9.5pt;font-family:Consolas;mso-bidi-font-family:Consolas;color:black;\n",
                "mso-ansi-language:EN-US\">TotalDue</span><span style=\"font-size:9.5pt;\n",
                "font-family:Consolas;mso-bidi-font-family:Consolas;color:gray;mso-ansi-language:\n",
                "EN-US\">)</span> <span style=\"font-size:\n",
                "9.5pt;font-family:Consolas;mso-bidi-font-family:Consolas;color:gray;mso-ansi-language:\n",
                "EN-US\">&gt;</span> <span style=\"font-size:9.5pt;font-family:Consolas;mso-bidi-font-family:\n",
                "Consolas;color:black;mso-ansi-language:EN-US\"> 5000</span><span style=\"font-size:9.5pt;font-family:Consolas;mso-bidi-font-family:Consolas;\n",
                "color:gray;mso-ansi-language:EN-US\">;<o:p></o:p></span>\n",
                "\n",
                "<span style=\"font-size:9.5pt;font-family:Consolas;\n",
                "mso-bidi-font-family:Consolas;color:green;mso-ansi-language:EN-US\">--Eliminate rows with WHERE and groups with HAVING</span>\n",
                "\n",
                "<span style=\"font-size:9.5pt;font-family:Consolas;\n",
                "mso-bidi-font-family:Consolas;color:blue;mso-ansi-language:EN-US\">SELECT</span> <span style=\"font-size:9.5pt;font-family:Consolas;mso-bidi-font-family:Consolas;\n",
                "color:black;mso-ansi-language:EN-US\"> CustomerID</span><span style=\"font-size:\n",
                "9.5pt;font-family:Consolas;mso-bidi-font-family:Consolas;color:gray;mso-ansi-language:\n",
                "EN-US\">,</span><span style=\"font-size:9.5pt;font-family:Consolas;mso-bidi-font-family:\n",
                "Consolas;color:fuchsia;mso-ansi-language:EN-US\">SUM</span><span style=\"font-size:9.5pt;font-family:Consolas;mso-bidi-font-family:Consolas;\n",
                "color:gray;mso-ansi-language:EN-US\">(</span><span style=\"font-size:9.5pt;\n",
                "font-family:Consolas;mso-bidi-font-family:Consolas;color:black;mso-ansi-language:\n",
                "EN-US\">TotalDue</span><span style=\"font-size:9.5pt;font-family:Consolas;\n",
                "mso-bidi-font-family:Consolas;color:gray;mso-ansi-language:EN-US\">)</span> <span style=\"font-size:9.5pt;\n",
                "font-family:Consolas;mso-bidi-font-family:Consolas;color:blue;mso-ansi-language:\n",
                "EN-US\">AS</span> <span style=\"font-size:9.5pt;font-family:Consolas;mso-bidi-font-family:\n",
                "Consolas;color:black;mso-ansi-language:EN-US\"> TotalPerCustomer<o:p></o:p></span>\n",
                "\n",
                "<span style=\"font-size:9.5pt;font-family:Consolas;\n",
                "mso-bidi-font-family:Consolas;color:blue;mso-ansi-language:EN-US\">FROM</span> <span style=\"font-size:9.5pt;font-family:Consolas;mso-bidi-font-family:Consolas;\n",
                "color:black;mso-ansi-language:EN-US\"> Sales</span><span style=\"font-size:9.5pt;\n",
                "font-family:Consolas;mso-bidi-font-family:Consolas;color:gray;mso-ansi-language:\n",
                "EN-US\">.</span><span style=\"font-size:9.5pt;font-family:Consolas;mso-bidi-font-family:\n",
                "Consolas;color:black;mso-ansi-language:EN-US\">SalesOrderHeader<o:p></o:p></span>\n",
                "\n",
                "<span style=\"font-size:9.5pt;font-family:Consolas;\n",
                "mso-bidi-font-family:Consolas;color:blue;mso-ansi-language:EN-US\">WHERE</span> <span style=\"font-size:9.5pt;font-family:Consolas;mso-bidi-font-family:Consolas;\n",
                "color:black;mso-ansi-language:EN-US\"> CustomerID </span> <span style=\"font-size:\n",
                "9.5pt;font-family:Consolas;mso-bidi-font-family:Consolas;color:gray;mso-ansi-language:\n",
                "EN-US\">&lt;</span> <span style=\"font-size:9.5pt;font-family:Consolas;mso-bidi-font-family:\n",
                "Consolas;color:black;mso-ansi-language:EN-US\"> 20000<o:p></o:p></span>\n",
                "\n",
                "<span style=\"font-size:9.5pt;font-family:Consolas;\n",
                "mso-bidi-font-family:Consolas;color:blue;mso-ansi-language:EN-US\">GROUP</span> <span style=\"font-size:9.5pt;\n",
                "font-family:Consolas;mso-bidi-font-family:Consolas;color:blue;mso-ansi-language:\n",
                "EN-US\">BY</span> <span style=\"font-size:9.5pt;font-family:Consolas;mso-bidi-font-family:\n",
                "Consolas;color:black;mso-ansi-language:EN-US\"> CustomerID<o:p></o:p></span>\n",
                "\n",
                "<span style=\"font-size:9.5pt;font-family:Consolas;\n",
                "mso-bidi-font-family:Consolas;color:blue;mso-ansi-language:EN-US\">HAVING</span> <span style=\"font-size:9.5pt;\n",
                "font-family:Consolas;mso-bidi-font-family:Consolas;color:fuchsia;mso-ansi-language:\n",
                "EN-US\">SUM</span><span style=\"font-size:9.5pt;font-family:Consolas;mso-bidi-font-family:\n",
                "Consolas;color:gray;mso-ansi-language:EN-US\">(</span><span style=\"font-size:\n",
                "9.5pt;font-family:Consolas;mso-bidi-font-family:Consolas;color:black;\n",
                "mso-ansi-language:EN-US\">TotalDue</span><span style=\"font-size:9.5pt;\n",
                "font-family:Consolas;mso-bidi-font-family:Consolas;color:gray;mso-ansi-language:\n",
                "EN-US\">)</span> <span style=\"font-size:\n",
                "9.5pt;font-family:Consolas;mso-bidi-font-family:Consolas;color:gray;mso-ansi-language:\n",
                "EN-US\">&gt;</span> <span style=\"font-size:9.5pt;font-family:Consolas;mso-bidi-font-family:\n",
                "Consolas;color:black;mso-ansi-language:EN-US\"> 5000</span><span style=\"font-size:9.5pt;font-family:Consolas;mso-bidi-font-family:Consolas;\n",
                "color:gray;mso-ansi-language:EN-US\">;</span>\n",
                "\n",
                "<span style=\"font-size:9.5pt;font-family:Consolas;\n",
                "mso-bidi-font-family:Consolas;color:green;mso-ansi-language:EN-US\">--The aggregate in HAVING doesn't have to appear in the</span>\n",
                "\n",
                "<span style=\"font-size:9.5pt;font-family:Consolas;\n",
                "mso-bidi-font-family:Consolas;color:green;mso-ansi-language:EN-US\">--rest of the query</span>\n",
                "\n",
                "<span style=\"font-size:9.5pt;font-family:Consolas;\n",
                "mso-bidi-font-family:Consolas;color:blue;mso-ansi-language:EN-US\">SELECT</span> <span style=\"font-size:9.5pt;font-family:Consolas;mso-bidi-font-family:Consolas;\n",
                "color:black;mso-ansi-language:EN-US\"> CustomerID</span><span style=\"font-size:\n",
                "9.5pt;font-family:Consolas;mso-bidi-font-family:Consolas;color:gray;mso-ansi-language:\n",
                "EN-US\">,</span><span style=\"font-size:9.5pt;font-family:Consolas;mso-bidi-font-family:\n",
                "Consolas;color:fuchsia;mso-ansi-language:EN-US\">SUM</span><span style=\"font-size:9.5pt;font-family:Consolas;mso-bidi-font-family:Consolas;\n",
                "color:gray;mso-ansi-language:EN-US\">(</span><span style=\"font-size:9.5pt;\n",
                "font-family:Consolas;mso-bidi-font-family:Consolas;color:black;mso-ansi-language:\n",
                "EN-US\">TotalDue</span><span style=\"font-size:9.5pt;font-family:Consolas;\n",
                "mso-bidi-font-family:Consolas;color:gray;mso-ansi-language:EN-US\">)</span> <span style=\"font-size:9.5pt;\n",
                "font-family:Consolas;mso-bidi-font-family:Consolas;color:blue;mso-ansi-language:\n",
                "EN-US\">AS</span> <span style=\"font-size:9.5pt;font-family:Consolas;mso-bidi-font-family:\n",
                "Consolas;color:black;mso-ansi-language:EN-US\"> TotalPerCustomer<o:p></o:p></span>\n",
                "\n",
                "<span style=\"font-size:9.5pt;font-family:Consolas;\n",
                "mso-bidi-font-family:Consolas;color:blue;mso-ansi-language:EN-US\">FROM</span> <span style=\"font-size:9.5pt;font-family:Consolas;mso-bidi-font-family:Consolas;\n",
                "color:black;mso-ansi-language:EN-US\"> Sales</span><span style=\"font-size:9.5pt;\n",
                "font-family:Consolas;mso-bidi-font-family:Consolas;color:gray;mso-ansi-language:\n",
                "EN-US\">.</span><span style=\"font-size:9.5pt;font-family:Consolas;mso-bidi-font-family:\n",
                "Consolas;color:black;mso-ansi-language:EN-US\">SalesOrderHeader<o:p></o:p></span>\n",
                "\n",
                "<span style=\"font-size:9.5pt;font-family:Consolas;\n",
                "mso-bidi-font-family:Consolas;color:blue;mso-ansi-language:EN-US\">GROUP</span> <span style=\"font-size:9.5pt;\n",
                "font-family:Consolas;mso-bidi-font-family:Consolas;color:blue;mso-ansi-language:\n",
                "EN-US\">BY</span> <span style=\"font-size:9.5pt;font-family:Consolas;mso-bidi-font-family:\n",
                "Consolas;color:black;mso-ansi-language:EN-US\"> CustomerID<o:p></o:p></span>\n",
                "\n",
                "<span style=\"font-size:9.5pt;line-height:107%;font-family:\n",
                "Consolas;mso-bidi-font-family:Consolas;color:blue;mso-ansi-language:EN-US\">HAVING</span> <span style=\"font-size:\n",
                "9.5pt;line-height:107%;font-family:Consolas;mso-bidi-font-family:Consolas;\n",
                "color:fuchsia;mso-ansi-language:EN-US\">COUNT</span><span style=\"font-size:9.5pt;\n",
                "line-height:107%;font-family:Consolas;mso-bidi-font-family:Consolas;color:gray;\n",
                "mso-ansi-language:EN-US\">(*)=</span> <span style=\"font-size:9.5pt;line-height:\n",
                "107%;font-family:Consolas;mso-bidi-font-family:Consolas;color:black;mso-ansi-language:\n",
                "EN-US\"> 3</span><span style=\"font-size:9.5pt;line-height:107%;font-family:Consolas;\n",
                "mso-bidi-font-family:Consolas;color:gray;mso-ansi-language:EN-US\">;<o:p></o:p></span>"
            ],
            "metadata": {
                "azdata_cell_guid": "4f602f7b-2427-4cd5-93ae-7c0213d574ee"
            },
            "attachments": {}
        },
        {
            "cell_type": "markdown",
            "source": [
                "1. Write a query that returns a count of detail lines in the Sales.SalesOrderDetail table by SalesOrderID. Include only those sales that have more than three detail lines."
            ],
            "metadata": {
                "azdata_cell_guid": "75475469-d606-4a60-97b5-e5008930400a"
            },
            "attachments": {}
        },
        {
            "cell_type": "code",
            "source": [
                ""
            ],
            "metadata": {
                "azdata_cell_guid": "2d4b0046-9edc-490f-b207-f96ab962ddad"
            },
            "outputs": [],
            "execution_count": null
        },
        {
            "cell_type": "markdown",
            "source": [
                "2\\. Write a query that creates a sum of the LineTotal in the Sales.SalesOrderDetail table grouped by the SalesOrderID. Include only those rows where the sum exceeds 1,000."
            ],
            "metadata": {
                "azdata_cell_guid": "8ce81183-61cc-4258-aa99-205a74bb682a"
            },
            "attachments": {}
        },
        {
            "cell_type": "code",
            "source": [
                ""
            ],
            "metadata": {
                "azdata_cell_guid": "c294a4d8-d856-41c5-95f1-61b20a238e8b"
            },
            "outputs": [],
            "execution_count": null
        },
        {
            "cell_type": "markdown",
            "source": [
                "<span style=\"font-variant-numeric: normal; font-variant-east-asian: normal; font-stretch: normal; line-height: normal;\">3.</span> Write a query that lists the ProductModelID from Production.Product along with a count. Display the rows that have a count that equals 1."
            ],
            "metadata": {
                "azdata_cell_guid": "cc1f01bc-3fab-4f78-b56a-4b2e19945874"
            },
            "attachments": {}
        },
        {
            "cell_type": "code",
            "source": [
                ""
            ],
            "metadata": {
                "azdata_cell_guid": "daafc23a-6f6e-4f58-8bbc-7821fad88df2"
            },
            "outputs": [],
            "execution_count": null
        },
        {
            "cell_type": "markdown",
            "source": [
                ""
            ],
            "metadata": {
                "azdata_cell_guid": "cf36ba0a-c5ef-45ec-bd96-49435bd2d5e9"
            }
        }
    ]
}